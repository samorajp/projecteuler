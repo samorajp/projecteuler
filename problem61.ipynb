{
 "metadata": {
  "name": ""
 },
 "nbformat": 3,
 "nbformat_minor": 0,
 "worksheets": [
  {
   "cells": [
    {
     "cell_type": "code",
     "collapsed": false,
     "input": [
      "def polygonal_numbers(k, start = 1, end = None):\n",
      "    \"\"\"Returns generator with polygonal numbers of type k.\"\"\"\n",
      "    n = start\n",
      "    if not end:\n",
      "        end = float('+inf')\n",
      "\n",
      "    while n < end:\n",
      "        yield n * ((k - 2) * n - (k - 4)) // 2\n",
      "        n += 1\n",
      "        \n",
      "def get_range(gener, lower_bound, upper_bound):\n",
      "    \"\"\"Returns generator with values within [lower_bound, upper_bound). Assumes gener.next() > gener.prev().\"\"\"\n",
      "    while True:\n",
      "        val = next(gener)\n",
      "        if val < lower_bound:\n",
      "            continue\n",
      "        if val < upper_bound:\n",
      "            yield val\n",
      "        else:\n",
      "            break\n",
      "            \n",
      "def is_cyclic(num1, num2):\n",
      "    return (num1 % 100) == (num2 // 100)"
     ],
     "language": "python",
     "metadata": {},
     "outputs": [],
     "prompt_number": 122
    },
    {
     "cell_type": "code",
     "collapsed": false,
     "input": [
      "nums = [list(get_range(polygonal_numbers(i), 10 ** 3, 10 ** 4)) for i in range(3, 9)]\n",
      "total = [(number, cat) for cat, cat_list in enumerate(nums) for number in cat_list]\n",
      "\n",
      "pref_dict = dict() # defaultdict is slower\n",
      "for num in total:\n",
      "    pref = num[0] // 100\n",
      "    if pref in pref_dict:\n",
      "        pref_dict[pref].append(num)\n",
      "    else:\n",
      "        pref_dict[pref] = [num]\n",
      "\n",
      "results = ((x1, x2, x3, x4, x5, x6)\n",
      "           for pref in pref_dict\n",
      "           for x1, _1 in pref_dict[pref]\n",
      "           if _1 == 5 # octagonal numbers, as x1 - the fewest options\n",
      "           for x2, _2 in (pref_dict.get(x1 % 100) if pref_dict.get(x1 % 100) else [])\n",
      "           for x3, _3 in (pref_dict.get(x2 % 100) if pref_dict.get(x2 % 100) else [])\n",
      "           for x4, _4 in (pref_dict.get(x3 % 100) if pref_dict.get(x3 % 100) else [])\n",
      "           for x5, _5 in (pref_dict.get(x4 % 100) if pref_dict.get(x4 % 100) else [])\n",
      "           for x6, _6 in (pref_dict.get(x5 % 100) if pref_dict.get(x5 % 100) else [])\n",
      "           if len(set([_1, _2, _3, _4, _5, _6])) == 6\n",
      "           if x6 % 100 == x1 // 100\n",
      ")\n",
      "\n",
      "print(sum(next(results)))"
     ],
     "language": "python",
     "metadata": {},
     "outputs": [
      {
       "output_type": "stream",
       "stream": "stdout",
       "text": [
        "28684\n"
       ]
      }
     ],
     "prompt_number": 130
    }
   ],
   "metadata": {}
  }
 ]
}