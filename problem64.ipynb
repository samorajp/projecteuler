{
 "metadata": {
  "name": ""
 },
 "nbformat": 3,
 "nbformat_minor": 0,
 "worksheets": [
  {
   "cells": [
    {
     "cell_type": "code",
     "collapsed": false,
     "input": [
      "def conti_frac(S):\n",
      "    import math\n",
      "    a_0 = int(math.sqrt(S))\n",
      "    if a_0 ** 2 == S:\n",
      "        return [a_0]\n",
      "    m, d, a = 0, 1, a_0\n",
      "    a_list = [a_0]\n",
      "    while 2 * a_0 != a:\n",
      "        m = d * a - m\n",
      "        d = (S - m ** 2) // d\n",
      "        a = (a_0 + m) // d\n",
      "        a_list.append(a)\n",
      "    return a_list\n",
      "\n",
      "results = [(len(conti_frac(x)) - 1) % 2 for x in range(10000 + 1)]\n",
      "sum(results)"
     ],
     "language": "python",
     "metadata": {},
     "outputs": [
      {
       "metadata": {},
       "output_type": "pyout",
       "prompt_number": 1,
       "text": [
        "1322"
       ]
      }
     ],
     "prompt_number": 1
    }
   ],
   "metadata": {}
  }
 ]
}