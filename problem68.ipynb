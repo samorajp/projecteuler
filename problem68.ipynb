{
 "metadata": {
  "name": ""
 },
 "nbformat": 3,
 "nbformat_minor": 0,
 "worksheets": [
  {
   "cells": [
    {
     "cell_type": "markdown",
     "metadata": {},
     "source": [
      "![img](https://projecteuler.net/project/images/p068_2.gif)"
     ]
    },
    {
     "cell_type": "code",
     "collapsed": false,
     "input": [
      "import itertools\n",
      "\n",
      "# x6, x7, x8, x9, x10 - outer nodes in clockwise order\n",
      "# x1, x2, x3, x4, x5 - inner nodes, x1 is top inner node\n",
      "\n",
      "labels = range(1, 11)\n",
      "\n",
      "# min(x6, x7, x8, x9, x10) - get minimum of outer nodes\n",
      "res = ((min(x6, x7, x8, x9, x10), (x6, x1, x2, x7, x2, x3, x8, x3, x4, x9, x4, x5, x10, x5, x1))\n",
      "       for x1, x2, x3, x4, x5, x6, x7, x8, x9, x10 in itertools.permutations(labels)\n",
      "       if x1 + x2 + x6 == x2 + x3 + x7 == x3 + x4 + x8 == x4 + x5 + x9 == x5 + x1 + x10\n",
      ")\n",
      "\n",
      "# quick fact: we are looking maximum string, thats starts from minimum outer node\n",
      "# maximum string will starts with maximal of minimum outer nodes from solution\n",
      "res_list = list(res)\n",
      "best_start = max(res_list)[0]\n",
      "print(best_start) # maximal of minimal outer nodes"
     ],
     "language": "python",
     "metadata": {},
     "outputs": [
      {
       "output_type": "stream",
       "stream": "stdout",
       "text": [
        "6\n"
       ]
      }
     ],
     "prompt_number": 1
    },
    {
     "cell_type": "markdown",
     "metadata": {},
     "source": [
      "So we know, that highest possible digit in result string is 6."
     ]
    },
    {
     "cell_type": "code",
     "collapsed": false,
     "input": [
      "# collect only solutions with outer nodes greater than six\n",
      "best = [seq for _, seq in filter(lambda x: x[0] == best_start, res_list)]\n",
      "for i in best:\n",
      "    print i"
     ],
     "language": "python",
     "metadata": {},
     "outputs": [
      {
       "output_type": "stream",
       "stream": "stdout",
       "text": [
        "(10, 1, 3, 6, 3, 5, 7, 5, 2, 8, 2, 4, 9, 4, 1)\n",
        "(9, 1, 4, 8, 4, 2, 7, 2, 5, 6, 5, 3, 10, 3, 1)\n",
        "(8, 2, 4, 9, 4, 1, 10, 1, 3, 6, 3, 5, 7, 5, 2)\n",
        "(7, 2, 5, 6, 5, 3, 10, 3, 1, 9, 1, 4, 8, 4, 2)\n",
        "(10, 3, 1, 9, 1, 4, 8, 4, 2, 7, 2, 5, 6, 5, 3)\n",
        "(6, 3, 5, 7, 5, 2, 8, 2, 4, 9, 4, 1, 10, 1, 3)\n",
        "(9, 4, 1, 10, 1, 3, 6, 3, 5, 7, 5, 2, 8, 2, 4)\n",
        "(8, 4, 2, 7, 2, 5, 6, 5, 3, 10, 3, 1, 9, 1, 4)\n",
        "(7, 5, 2, 8, 2, 4, 9, 4, 1, 10, 1, 3, 6, 3, 5)\n",
        "(6, 5, 3, 10, 3, 1, 9, 1, 4, 8, 4, 2, 7, 2, 5)\n"
       ]
      }
     ],
     "prompt_number": 2
    },
    {
     "cell_type": "code",
     "collapsed": false,
     "input": [
      "# get indexes of six, helpful to cyclic rotation to make six as first element\n",
      "six_index = [x.index(6) for x in best]\n",
      "moved = set([x[y:] + x[:y] for x, y in zip(best, six_index)])\n",
      "\n",
      "# possible solutions\n",
      "for i in moved:\n",
      "    print(i)"
     ],
     "language": "python",
     "metadata": {},
     "outputs": [
      {
       "output_type": "stream",
       "stream": "stdout",
       "text": [
        "(6, 5, 3, 10, 3, 1, 9, 1, 4, 8, 4, 2, 7, 2, 5)\n",
        "(6, 3, 5, 7, 5, 2, 8, 2, 4, 9, 4, 1, 10, 1, 3)\n"
       ]
      }
     ],
     "prompt_number": 3
    },
    {
     "cell_type": "code",
     "collapsed": false,
     "input": [
      "result_strings = [\"\".join([str(elem) for elem in seq]) for seq in moved]\n",
      "print(result_strings)"
     ],
     "language": "python",
     "metadata": {},
     "outputs": [
      {
       "output_type": "stream",
       "stream": "stdout",
       "text": [
        "['6531031914842725', '6357528249411013']\n"
       ]
      }
     ],
     "prompt_number": 4
    },
    {
     "cell_type": "code",
     "collapsed": false,
     "input": [
      "max(result_strings)"
     ],
     "language": "python",
     "metadata": {},
     "outputs": [
      {
       "metadata": {},
       "output_type": "pyout",
       "prompt_number": 5,
       "text": [
        "'6531031914842725'"
       ]
      }
     ],
     "prompt_number": 5
    }
   ],
   "metadata": {}
  }
 ]
}