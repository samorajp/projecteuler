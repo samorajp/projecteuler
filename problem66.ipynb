{
 "metadata": {
  "name": ""
 },
 "nbformat": 3,
 "nbformat_minor": 0,
 "worksheets": [
  {
   "cells": [
    {
     "cell_type": "code",
     "collapsed": false,
     "input": [
      "def conti_frac(S):\n",
      "    import math\n",
      "    a_0 = int(math.sqrt(S))\n",
      "    if a_0 ** 2 == S:\n",
      "        return [a_0]\n",
      "    m, d, a = 0, 1, a_0\n",
      "    a_list = [a_0]\n",
      "    while 2 * a_0 != a:\n",
      "        m = d * a - m\n",
      "        d = (S - m ** 2) // d\n",
      "        a = (a_0 + m) // d\n",
      "        a_list.append(a)\n",
      "    return a_list\n",
      "\n",
      "def redukty(S):\n",
      "    import math\n",
      "    a_list = conti_frac(S)\n",
      "    if len(a_list) == 1:\n",
      "        return [(a_list[0], 1)]\n",
      "    if len(a_list) % 2 == 0:\n",
      "        a_list += a_list[1:]\n",
      "    n = len(a_list)\n",
      "    p_list = [a_list[0], a_list[0] * a_list[1] + 1]\n",
      "    q_list = [1, a_list[1]]\n",
      "    for i in range(2, n):\n",
      "        p_list.append(a_list[i] * p_list[i - 1] + p_list[i - 2])\n",
      "        q_list.append(a_list[i] * q_list[i - 1] + q_list[i - 2])\n",
      "    return zip(p_list, q_list)"
     ],
     "language": "python",
     "metadata": {},
     "outputs": [],
     "prompt_number": 78
    },
    {
     "cell_type": "code",
     "collapsed": false,
     "input": [
      "res = []\n",
      "for D in range(1001):\n",
      "    try:\n",
      "        x, y = redukty(D)[-2]\n",
      "        res.append((x, y, D))\n",
      "    except IndexError:\n",
      "        pass\n",
      "    \n",
      "max(res)[-1]"
     ],
     "language": "python",
     "metadata": {},
     "outputs": [
      {
       "metadata": {},
       "output_type": "pyout",
       "prompt_number": 89,
       "text": [
        "661"
       ]
      }
     ],
     "prompt_number": 89
    }
   ],
   "metadata": {}
  }
 ]
}